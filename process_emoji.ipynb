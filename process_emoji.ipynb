{
 "cells": [
  {
   "cell_type": "code",
   "execution_count": 3,
   "metadata": {},
   "outputs": [],
   "source": [
    "import os\n",
    "import csv\n",
    "import json\n",
    "import re\n",
    "import emoji\n",
    "from unidecode import unidecode\n"
   ]
  },
  {
   "cell_type": "code",
   "execution_count": 6,
   "metadata": {},
   "outputs": [],
   "source": [
    "\n",
    "def reformat_emojidata(input_path, output_path):\n",
    "    with open(input_path, 'r', encoding= 'utf-8') as input, open(output_path, 'w', encoding='utf-8', newline='') as output:\n",
    "        reader = csv.reader(input)\n",
    "        next(reader)  # Skip the header\n",
    "\n",
    "        writer = csv.writer(output)\n",
    "        # Write header to the output file\n",
    "        writer.writerow(['#', 'text'])\n",
    "\n",
    "        for row in reader:\n",
    "            idx, emoji, _, name, *_ = row\n",
    "            new_name = name + ' ' + emoji\n",
    "            writer.writerow([idx, new_name])\n",
    "\n",
    "reformat_emojidata('data/raw/def/full_emoji.csv', 'data/clean/emoji.csv')"
   ]
  },
  {
   "cell_type": "code",
   "execution_count": 7,
   "metadata": {},
   "outputs": [],
   "source": [
    "\n",
    "def reformat_customerservicedata(input_path, output_path):\n",
    "    with open(input_path, 'r', encoding= 'utf-8') as input, open(output_path, 'w', encoding='utf-8', newline='') as output:\n",
    "        reader = csv.reader(input)\n",
    "        next(reader)  # Skip the header\n",
    "\n",
    "        writer = csv.writer(output)\n",
    "        # Write header to the output file\n",
    "        writer.writerow(['#', 'text'])\n",
    "\n",
    "        for row in reader:\n",
    "            #tweet_id,airline_sentiment,airline_sentiment_confidence,negativereason,negativereason_confidence,airline,airline_sentiment_gold,name,negativereason_gold,retweet_count,text,tweet_coord,tweet_created,tweet_location,user_timezone\n",
    "            idx,_,_,_,_,_,_,_,_,_,text, *_ = row\n",
    "            writer.writerow([idx, text])\n",
    "\n",
    "reformat_customerservicedata('data/raw/func/Tweets.csv', 'data/clean/customer-feedback.csv')"
   ]
  },
  {
   "cell_type": "code",
   "execution_count": 9,
   "metadata": {},
   "outputs": [],
   "source": [
    "\n",
    "def reformat_reviewdata(input_path, output_path):\n",
    "    with open(input_path, 'r', encoding= 'utf-8') as input, open(output_path, 'w', encoding='utf-8', newline='') as output:\n",
    "        reader = csv.reader(input)\n",
    "        next(reader)  # Skip the header\n",
    "\n",
    "        writer = csv.writer(output)\n",
    "        # Write header to the output file\n",
    "        writer.writerow(['#', 'text'])\n",
    "\n",
    "        for row in reader:\n",
    "            idx,text, *_ = row\n",
    "            writer.writerow([idx, text])\n",
    "\n",
    "reformat_reviewdata('data/raw/func/smile-annotations-final.csv', 'data/clean/museum-feedback.csv')"
   ]
  },
  {
   "cell_type": "code",
   "execution_count": null,
   "metadata": {},
   "outputs": [],
   "source": [
    "\n",
    "def reformat_reviewdata(input_path, output_path):\n",
    "    with open(input_path, 'r', encoding= 'utf-8') as input, open(output_path, 'w', encoding='utf-8', newline='') as output:\n",
    "        reader = csv.reader(input)\n",
    "        next(reader)  # Skip the header\n",
    "\n",
    "        writer = csv.writer(output)\n",
    "        # Write header to the output file\n",
    "        writer.writerow(['#', 'text'])\n",
    "\n",
    "        for row in reader:\n",
    "            idx,text, *_ = row\n",
    "            writer.writerow([idx, text])\n",
    "\n",
    "reformat_reviewdata('data/raw/data.csv', 'data/clean/data.csv')"
   ]
  }
 ],
 "metadata": {
  "kernelspec": {
   "display_name": "Python 3",
   "language": "python",
   "name": "python3"
  },
  "language_info": {
   "codemirror_mode": {
    "name": "ipython",
    "version": 3
   },
   "file_extension": ".py",
   "mimetype": "text/x-python",
   "name": "python",
   "nbconvert_exporter": "python",
   "pygments_lexer": "ipython3",
   "version": "3.10.11"
  },
  "orig_nbformat": 4
 },
 "nbformat": 4,
 "nbformat_minor": 2
}
