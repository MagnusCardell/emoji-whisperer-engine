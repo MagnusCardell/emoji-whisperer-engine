{
 "cells": [
  {
   "cell_type": "code",
   "execution_count": 2,
   "metadata": {},
   "outputs": [],
   "source": [
    "import os\n",
    "import csv\n",
    "import json\n",
    "import re\n",
    "import emoji\n",
    "from unidecode import unidecode\n"
   ]
  },
  {
   "cell_type": "code",
   "execution_count": 6,
   "metadata": {},
   "outputs": [],
   "source": [
    "\n",
    "def reformat_emojidata(input_path, output_path):\n",
    "    with open(input_path, 'r', encoding= 'utf-8') as input, open(output_path, 'w', encoding='utf-8', newline='') as output:\n",
    "        reader = csv.reader(input)\n",
    "        next(reader)  # Skip the header\n",
    "\n",
    "        writer = csv.writer(output)\n",
    "        # Write header to the output file\n",
    "        writer.writerow(['#', 'text'])\n",
    "\n",
    "        for row in reader:\n",
    "            idx, emoji, _, name, *_ = row\n",
    "            new_name = name + ' ' + emoji\n",
    "            writer.writerow([idx, new_name])\n",
    "\n",
    "reformat_emojidata('data/raw/def/full_emoji.csv', 'data/clean/emoji.csv')"
   ]
  },
  {
   "cell_type": "code",
   "execution_count": 7,
   "metadata": {},
   "outputs": [],
   "source": [
    "\n",
    "def reformat_customerservicedata(input_path, output_path):\n",
    "    with open(input_path, 'r', encoding= 'utf-8') as input, open(output_path, 'w', encoding='utf-8', newline='') as output:\n",
    "        reader = csv.reader(input)\n",
    "        next(reader)  # Skip the header\n",
    "\n",
    "        writer = csv.writer(output)\n",
    "        # Write header to the output file\n",
    "        writer.writerow(['#', 'text'])\n",
    "\n",
    "        for row in reader:\n",
    "            #tweet_id,airline_sentiment,airline_sentiment_confidence,negativereason,negativereason_confidence,airline,airline_sentiment_gold,name,negativereason_gold,retweet_count,text,tweet_coord,tweet_created,tweet_location,user_timezone\n",
    "            idx,_,_,_,_,_,_,_,_,_,text, *_ = row\n",
    "            writer.writerow([idx, text])\n",
    "\n",
    "reformat_customerservicedata('data/raw/func/Tweets.csv', 'data/clean/customer-feedback.csv')"
   ]
  },
  {
   "cell_type": "code",
   "execution_count": 9,
   "metadata": {},
   "outputs": [],
   "source": [
    "\n",
    "def reformat_reviewdata(input_path, output_path):\n",
    "    with open(input_path, 'r', encoding= 'utf-8') as input, open(output_path, 'w', encoding='utf-8', newline='') as output:\n",
    "        reader = csv.reader(input)\n",
    "        next(reader)  # Skip the header\n",
    "\n",
    "        writer = csv.writer(output)\n",
    "        # Write header to the output file\n",
    "        writer.writerow(['#', 'text'])\n",
    "\n",
    "        for row in reader:\n",
    "            idx,text, *_ = row\n",
    "            writer.writerow([idx, text])\n",
    "\n",
    "reformat_reviewdata('data/raw/func/smile-annotations-final.csv', 'data/clean/museum-feedback.csv')"
   ]
  },
  {
   "cell_type": "code",
   "execution_count": null,
   "metadata": {},
   "outputs": [],
   "source": [
    "\n",
    "def reformat_reviewdata(input_path, output_path):\n",
    "    with open(input_path, 'r', encoding= 'utf-8') as input, open(output_path, 'w', encoding='utf-8', newline='') as output:\n",
    "        reader = csv.reader(input)\n",
    "        next(reader)  # Skip the header\n",
    "\n",
    "        writer = csv.writer(output)\n",
    "        # Write header to the output file\n",
    "        writer.writerow(['#', 'text'])\n",
    "\n",
    "        for row in reader:\n",
    "            idx,text, *_ = row\n",
    "            writer.writerow([idx, text])\n",
    "\n",
    "reformat_reviewdata('data/raw/data.csv', 'data/clean/data.csv')"
   ]
  },
  {
   "cell_type": "code",
   "execution_count": 5,
   "metadata": {},
   "outputs": [],
   "source": [
    "def reformat_emojidata(input_path, output_path):\n",
    "    with open(input_path, 'r', encoding= 'utf-8') as input, open(output_path, 'w', encoding='utf-8', newline='') as output:\n",
    "        data = json.load(input)\n",
    "\n",
    "\n",
    "        writer = csv.writer(output)\n",
    "        # Write header to the output file\n",
    "        writer.writerow(['#', 'text'])\n",
    "        counter = 1\n",
    "        for k, v in data.items():\n",
    "            writer.writerow([counter, f\"{k} {v}\"])\n",
    "            counter += 1\n",
    "\n",
    "reformat_emojidata('data/raw/emoji-data.json', 'data/clean/emoji-data.csv')"
   ]
  },
  {
   "cell_type": "code",
   "execution_count": 14,
   "metadata": {},
   "outputs": [],
   "source": [
    "def reformat_copypasta(input_path, output_path):\n",
    "    with open(input_path, 'r', encoding= 'utf-8') as input, open(output_path, 'w', encoding='utf-8', newline='') as output:\n",
    "        lines = [line.strip() for line in input if line.strip()]\n",
    "\n",
    "        writer = csv.writer(output)\n",
    "        # Write header to the output file\n",
    "        writer.writerow(['#', 'text'])\n",
    "        for counter, line in enumerate(lines, 1):\n",
    "            writer.writerow([counter, line])\n",
    "\n",
    "reformat_copypasta('data/raw/copypasta.txt', 'data/clean/copypasta.csv')"
   ]
  },
  {
   "cell_type": "code",
   "execution_count": 15,
   "metadata": {},
   "outputs": [],
   "source": [
    "def reformat_copypasta(input_path, output_path):\n",
    "    with open(input_path, 'r', encoding= 'utf-8') as input, open(output_path, 'w', encoding='utf-8', newline='') as output:\n",
    "        lines = [line.strip() for line in input if line.strip()]\n",
    "\n",
    "        writer = csv.writer(output)\n",
    "        # Write header to the output file\n",
    "        writer.writerow(['#', 'text'])\n",
    "        for counter, line in enumerate(lines, 1):\n",
    "            writer.writerow([counter, line])\n",
    "\n",
    "reformat_copypasta('data/raw/corpus.txt', 'data/clean/corpus.csv')"
   ]
  },
  {
   "cell_type": "code",
   "execution_count": 3,
   "metadata": {},
   "outputs": [],
   "source": [
    "# kaggle public\n",
    "def reformat_kaggle(input_path, output_path):\n",
    "    with open(input_path, 'r', encoding= 'utf-8') as input, open(output_path, 'w', encoding='utf-8', newline='') as output:\n",
    "        reader = csv.reader(input)\n",
    "        next(reader)  # Skip the header\n",
    "\n",
    "        writer = csv.writer(output)\n",
    "        # Write header to the output file\n",
    "        writer.writerow(['#', 'text'])\n",
    "\n",
    "        counter = 1\n",
    "        for row in reader: #emoji,name,\n",
    "            emoji,name, *_ = row\n",
    "            writer.writerow([counter, f\"{name} {emoji}\"])\n",
    "            counter += 1\n",
    "\n",
    "reformat_kaggle('data/raw/kaggle_public/emoji_df.csv', 'data/clean/kaggle_emoji.csv')"
   ]
  },
  {
   "cell_type": "code",
   "execution_count": null,
   "metadata": {},
   "outputs": [],
   "source": [
    "#huggingface public"
   ]
  },
  {
   "cell_type": "code",
   "execution_count": 5,
   "metadata": {},
   "outputs": [],
   "source": [
    "# zenodo cc\n",
    "\n",
    "def reformat_zenodo(input_path, output_path):\n",
    "    with open(input_path, 'r', encoding= 'utf-8') as input, open(output_path, 'w', encoding='utf-8', newline='') as output:\n",
    "        reader = csv.reader(input)\n",
    "        next(reader)  # Skip the header\n",
    "\n",
    "        writer = csv.writer(output)\n",
    "        # Write header to the output file\n",
    "        writer.writerow(['#', 'text'])\n",
    "\n",
    "        counter = 1\n",
    "        for row in reader: #emoji,name,\n",
    "            n,tweet, *_ = row\n",
    "            writer.writerow([counter, tweet])\n",
    "            counter += 1\n",
    "\n",
    "reformat_zenodo('data/raw/zenodo_cc_attribute/emoji_gestures_dataset_english.csv', 'data/clean/emoji_twitt.csv')"
   ]
  }
 ],
 "metadata": {
  "kernelspec": {
   "display_name": "Python 3",
   "language": "python",
   "name": "python3"
  },
  "language_info": {
   "codemirror_mode": {
    "name": "ipython",
    "version": 3
   },
   "file_extension": ".py",
   "mimetype": "text/x-python",
   "name": "python",
   "nbconvert_exporter": "python",
   "pygments_lexer": "ipython3",
   "version": "3.10.11"
  },
  "orig_nbformat": 4
 },
 "nbformat": 4,
 "nbformat_minor": 2
}
